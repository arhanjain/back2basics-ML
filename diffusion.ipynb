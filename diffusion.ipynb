{
 "cells": [
  {
   "cell_type": "markdown",
   "metadata": {},
   "source": [
    "# Diffusion Models"
   ]
  },
  {
   "cell_type": "markdown",
   "metadata": {},
   "source": [
    "### Background\n",
    "\n",
    "Forward Process\n",
    "$$q(x_t| x_{t-1}) = \\mathcal{N}(x_t, \\sqrt{1-\\beta}x_{t-1}, \\beta I)$$\n",
    "*The $\\sqrt{1-\\beta}x_{t-1}$ is to retain information about previous step to be able to reconstruct in reverse process, and ensure the contribution of $x_{t-1}$ to the variance scales properly*\n",
    "Generally, $$q(x_t|x_0) = \\mathcal{N}(x_t, \\sqrt(\\prod_0^t1-\\beta_t)x_0, \\beta_t I)$$\n"
   ]
  },
  {
   "cell_type": "markdown",
   "metadata": {},
   "source": [
    "Reverse Process \n",
    "\n",
    "*Predict the noise distribution at timestep $t$ to get $x_t$ from $x_{t-1}$*\n",
    "$$p_\\theta (x_{t-1}|x_t) = \\mathcal{N}(x_{t-1}|\\mu_\\theta(x_t,t), \\Sigma_\\theta(x_t, t))$$"
   ]
  },
  {
   "cell_type": "markdown",
   "metadata": {},
   "source": [
    "Maximize expected probability of reconstructing the original image over your true distribution:\n",
    "$$\n",
    "\\begin{aligned}\n",
    "\\argmax_\\theta \\mathbb{E}_{q(x_0)}[\\log p_\\theta(x_0)] \\quad & \\\\\n",
    "= \\argmax_\\theta \\mathbb{E}_{q(x_0)}[\\log \\int p_\\theta(x_{0:T}) \\, dx_{1:T}] \\quad & \\text{Represent as marginal} \\\\\n",
    "= \\argmax_\\theta \\mathbb{E}_{q(x_0)}[\\log \\int q(x_{1:T}|x_0) \\frac{p_\\theta(x_{0:T}) }{q(x_{1:T}| x_0)} \\, dx_{1:T}] \\quad & \\text{Importance sampling trick from known distribution, forward process $q(x_{1:T}| x_0)$} \\\\\n",
    "= \\argmax_\\theta \\mathbb{E}_{q(x_0)}[ \\log \\mathbb{E}_{q(x_{1:T}|x_0)}\\left[\\frac{p_\\theta(x_{0:T})}{q(x_{1:T}| x_0)}\\right]] \\quad & \\text{Definition of expectation} \\\\\n",
    "= \\argmin_\\theta \\mathbb{E}_{q(x_0)}\\left[ -\\log \\mathbb{E}_{q(x_{1:T}|x_0)}\\left[\\frac{p_\\theta(x_{0:T})}{q(x_{1:T}| x_0)}\\right]\\right] \\quad &  \\\\\n",
    "\\leq \\argmin_\\theta \\mathbb{E}_{q(x_{0:T})}\\left[-\\log \\frac{p_\\theta(x_{0:T})}{q(x_{1:T}| x_0)}\\right] \\quad & \\text{Jensen's Inequality, $-\\log$ is convex} \\\\\n",
    "\\ldots \\quad & \\text{Simplifies to...} \\\\\n",
    "\\argmin_\\theta \\mathbb{E}_{t,x_0,\\epsilon}\\left[\\left|\\left|\\epsilon - \\epsilon_\\theta(x_t, t)\\right|\\right|^2 \\right]  \\quad &  \\\\\n",
    "\\argmin_\\theta \\mathbb{E}_{t,x_0,\\epsilon}\\left[\\left|\\left|\\epsilon - \\epsilon_\\theta\\left(\\sqrt{\\alpha_{t}}x_0 + \\sqrt{1-\\alpha_{t}}\\epsilon, t\\right)\\right|\\right|^2 \\right] \\quad & \n",
    "\\end{aligned} \n",
    "$$\n"
   ]
  },
  {
   "cell_type": "code",
   "execution_count": 1,
   "metadata": {},
   "outputs": [],
   "source": [
    "import torch\n",
    "import cv2\n",
    "import math\n",
    "import numpy as np\n",
    "import pandas as pd\n",
    "import matplotlib.pyplot as plt\n",
    "# from PIL import Image\n",
    "from torchvision.io import read_image\n",
    "from tqdm.notebook import tqdm"
   ]
  },
  {
   "cell_type": "code",
   "execution_count": 2,
   "metadata": {},
   "outputs": [],
   "source": [
    "class ImageDataset(torch.utils.data.Dataset):\n",
    "    def __init__(self, file_list):\n",
    "        super().__init__()\n",
    "        self.file_list = file_list\n",
    "        \n",
    "    def __len__(self,):\n",
    "        return len(self.file_list)\n",
    " \n",
    "    def __getitem__(self, index):\n",
    "        image_path = f\"./data/celeb_faces/img_align_celeba/{self.file_list[index]}\"\n",
    "        image = cv2.imread(image_path)\n",
    "        image = cv2.cvtColor(image, cv2.COLOR_BGR2RGB)\n",
    "        image = cv2.resize(image, (224,224))\n",
    "\n",
    "        image = torch.tensor(image, dtype=torch.float32) / 255\n",
    "\n",
    "        #scale from 0,1 to -1,1\n",
    "        image = image * 2 - 1\n",
    "\n",
    "        return image"
   ]
  },
  {
   "cell_type": "code",
   "execution_count": 3,
   "metadata": {},
   "outputs": [],
   "source": [
    "class DownSample(torch.nn.Module):\n",
    "    def __init__(self, in_channels, out_channels):\n",
    "        super().__init__()\n",
    "        self.conv1 = torch.nn.Conv2d(in_channels, out_channels, kernel_size=(3,3), padding=1)\n",
    "        self.conv2 = torch.nn.Conv2d(out_channels, out_channels, kernel_size=(3,3), padding=1)\n",
    "        self.pool = torch.nn.MaxPool2d(kernel_size=(2,2), stride=2)\n",
    "        self.bn = torch.nn.BatchNorm2d(out_channels) \n",
    "\n",
    "    def forward(self, x): # returns (feature map before pool, feature map after max pooling)\n",
    "        pre_pool = self.conv1(x)\n",
    "        pre_pool = self.conv2(pre_pool)\n",
    "        # pre_pool = torch.nn.functional.batch_norm(pre_pool)\n",
    "        pre_pool = torch.nn.functional.relu(pre_pool)\n",
    "\n",
    "\n",
    "        post_pool = self.pool(pre_pool)\n",
    "\n",
    "        return pre_pool, post_pool\n",
    "\n",
    "class UpSample(torch.nn.Module):\n",
    "    def __init__(self, in_channels, out_channels):\n",
    "        super().__init__()\n",
    "        self.upconv = torch.nn.ConvTranspose2d(in_channels, out_channels, kernel_size=(2,2), stride=2)\n",
    "        self.conv1 = torch.nn.Conv2d(out_channels*2, out_channels, kernel_size=(3,3), padding=1)\n",
    "        self.conv2 = torch.nn.Conv2d(out_channels, out_channels, kernel_size=(3,3), padding=1)\n",
    "        self.bn = torch.nn.BatchNorm2d(out_channels)\n",
    "\n",
    "    def forward(self, x, pre_pool): \n",
    "        x = self.upconv(x)\n",
    "\n",
    "        # x and pre_pool are (B, C, H, W)\n",
    "        # we concat across channels\n",
    "\n",
    "        # # copy and crop\n",
    "        # x_h, x_w = x.shape[2], x.shape[3]\n",
    "        # pre_pool_h, pre_pool_w = pre_pool.skhape[2], pre_pool.shape[3]\n",
    "        # dh, dw = pre_pool_h - x_h, pre_pool_w - x_w\n",
    "        # pre_pool_cropped = pre_pool[:,:, dh//2: dh//2 + x_h, dw//2: dw//2 + x_w]\n",
    "\n",
    "        # pad\n",
    "        x_h, x_w = x.shape[2], x.shape[3]\n",
    "        pre_pool_h, pre_pool_w = pre_pool.shape[2], pre_pool.shape[3]\n",
    "        dh, dw = pre_pool_h - x_h, pre_pool_w - x_w\n",
    "        pad = [\n",
    "            dh // 2, math.ceil(dh / 2),\n",
    "            dw // 2, math.ceil(dw / 2),\n",
    "        ]\n",
    "        padded_x = torch.nn.functional.pad(x, pad)\n",
    "\n",
    "        x = torch.cat([padded_x, pre_pool], dim=1)\n",
    "        x = self.conv1(x)\n",
    "        x = self.conv2(x)\n",
    "\n",
    "        x = self.bn(x)\n",
    "        x = torch.nn.functional.relu(x)\n",
    "        \n",
    "        return x\n",
    "    \n",
    "class UNet(torch.nn.Module):\n",
    "    def __init__(self, image_shape=(3,224,244)):\n",
    "        super().__init__()\n",
    "        im_channels, im_height, im_width = image_shape\n",
    "        self.down1 = DownSample(im_channels, 64)\n",
    "        self.down2 = DownSample(64, 128)\n",
    "        self.down3 = DownSample(128, 256)\n",
    "        self.down4 = DownSample(256, 512)\n",
    "    \n",
    "        self.middle_conv1 = torch.nn.Conv2d(512, 1024, kernel_size=(3,3), padding=0)\n",
    "        self.middle_conv2 = torch.nn.Conv2d(1024, 1024, kernel_size=(3,3), padding=0)\n",
    "\n",
    "        self.up1 = UpSample(1024, 512)\n",
    "        self.up2 = UpSample(512, 256)\n",
    "        self.up3 = UpSample(256, 128)\n",
    "        self.up4 = UpSample(128, 64)\n",
    "\n",
    "        self.final_layer = torch.nn.Conv2d(64, 3, kernel_size=(3,3), padding=1)\n",
    "\n",
    "    def forward(self,x):\n",
    "        down1_feat, down1 = self.down1(x)\n",
    "        down2_feat, down2 = self.down2(down1)\n",
    "        down3_feat, down3 = self.down3(down2)\n",
    "        down4_feat, down4 = self.down4(down3)\n",
    "\n",
    "        middle1 = self.middle_conv1(down4)\n",
    "        middle2 = self.middle_conv2(middle1)\n",
    "\n",
    "        up1 = self.up1(middle2, down4_feat)\n",
    "        up2 = self.up2(up1, down3_feat)\n",
    "        up3 = self.up3(up2, down2_feat)\n",
    "        up4 = self.up4(up3, down1_feat)\n",
    "\n",
    "        output = self.final_layer(up4)\n",
    "        output = torch.nn.functional.relu(output)\n",
    "\n",
    "        return output\n",
    "\n",
    "class DiffusionModel(torch.nn.Module):\n",
    "    BETA_START = 1e-4\n",
    "    BETA_END = 0.02\n",
    "    MAX_TIMESTEPS = 1000\n",
    "    IMG_SIZE = 224\n",
    "\n",
    "    def __init__(self, device):\n",
    "        super().__init__()\n",
    "\n",
    "\n",
    "        self.betas = torch.linspace(self.BETA_START, self.BETA_END, self.MAX_TIMESTEPS)\n",
    "        self.alphas = 1 - self.betas\n",
    "        self.alpha_bars = torch.cumprod(self.alphas, dim=0).to(device)\n",
    "\n",
    "        # architecture\n",
    "        self.net = UNet(image_shape=(3, self.IMG_SIZE, self.IMG_SIZE))\n",
    "\n",
    "    def forward(self, input):\n",
    "        return self.net(input)\n",
    "\n",
    "    def apply_noise(self, image_batch, noise_batch, timestep):\n",
    "        # noised image\n",
    "        # sqrt(alpha_t) * img + sqrt(1 - alpha_t) * noise\n",
    "        return torch.sqrt(self.alpha_bars[timestep]) * image_batch + torch.sqrt(1 - self.alpha_bars[timestep]) * noise_batch\n"
   ]
  },
  {
   "cell_type": "code",
   "execution_count": 7,
   "metadata": {},
   "outputs": [],
   "source": [
    "splits = pd.read_csv(\"./data/celeb_faces/list_eval_partition.csv\")\n",
    "\n",
    "train_list = splits[splits[\"partition\"] == 0][\"image_id\"].values\n",
    "val_list = splits[splits[\"partition\"] == 1][\"image_id\"].values\n",
    "\n",
    "train_ds = ImageDataset(train_list[:100])\n",
    "val_ds = ImageDataset(val_list[:10])\n",
    "\n",
    "train_loader = torch.utils.data.DataLoader(\n",
    "    train_ds,\n",
    "    batch_size=16,\n",
    "    shuffle=True,\n",
    "    # num_workers=4\n",
    ")\n",
    "val_loader = torch.utils.data.DataLoader(\n",
    "    val_ds,\n",
    "    batch_size=16,\n",
    "    shuffle=True,\n",
    ")\n"
   ]
  },
  {
   "cell_type": "code",
   "execution_count": null,
   "metadata": {},
   "outputs": [
    {
     "name": "stdout",
     "output_type": "stream",
     "text": [
      "Training Epoch 0\n",
      "7\n"
     ]
    },
    {
     "data": {
      "application/vnd.jupyter.widget-view+json": {
       "model_id": "58fa218b43b74db1ba8af439c9140cb4",
       "version_major": 2,
       "version_minor": 0
      },
      "text/plain": [
       "0it [00:00, ?it/s]"
      ]
     },
     "metadata": {},
     "output_type": "display_data"
    },
    {
     "name": "stdout",
     "output_type": "stream",
     "text": [
      "0\n",
      "1\n",
      "2\n",
      "3\n",
      "4\n",
      "5\n",
      "6\n",
      "Validation Epoch 0\n"
     ]
    },
    {
     "data": {
      "application/vnd.jupyter.widget-view+json": {
       "model_id": "700e2cbd9c4849b8a7800d4f30847f84",
       "version_major": 2,
       "version_minor": 0
      },
      "text/plain": [
       "0it [00:00, ?it/s]"
      ]
     },
     "metadata": {},
     "output_type": "display_data"
    },
    {
     "name": "stdout",
     "output_type": "stream",
     "text": [
      "Epoch 0 | Train Loss: 1.0030863285064697 Validation Loss: 0.9863555431365967\n",
      "Training Epoch 1\n",
      "7\n"
     ]
    },
    {
     "data": {
      "application/vnd.jupyter.widget-view+json": {
       "model_id": "57277a549ee54a3d9963c621ac23012c",
       "version_major": 2,
       "version_minor": 0
      },
      "text/plain": [
       "0it [00:00, ?it/s]"
      ]
     },
     "metadata": {},
     "output_type": "display_data"
    },
    {
     "name": "stdout",
     "output_type": "stream",
     "text": [
      "0\n",
      "1\n",
      "2\n",
      "3\n",
      "4\n",
      "5\n",
      "6\n",
      "Validation Epoch 1\n"
     ]
    },
    {
     "data": {
      "application/vnd.jupyter.widget-view+json": {
       "model_id": "41c09df3f7964507bf68d842bac854d2",
       "version_major": 2,
       "version_minor": 0
      },
      "text/plain": [
       "0it [00:00, ?it/s]"
      ]
     },
     "metadata": {},
     "output_type": "display_data"
    },
    {
     "name": "stdout",
     "output_type": "stream",
     "text": [
      "Epoch 1 | Train Loss: 0.9033703207969666 Validation Loss: 0.9540436267852783\n",
      "Training Epoch 2\n",
      "7\n"
     ]
    },
    {
     "data": {
      "application/vnd.jupyter.widget-view+json": {
       "model_id": "5e0995de45484055925658b0813fa999",
       "version_major": 2,
       "version_minor": 0
      },
      "text/plain": [
       "0it [00:00, ?it/s]"
      ]
     },
     "metadata": {},
     "output_type": "display_data"
    },
    {
     "name": "stdout",
     "output_type": "stream",
     "text": [
      "0\n",
      "1\n",
      "2\n",
      "3\n",
      "4\n",
      "5\n",
      "6\n",
      "Validation Epoch 2\n"
     ]
    },
    {
     "data": {
      "application/vnd.jupyter.widget-view+json": {
       "model_id": "002c4708ab5e45e3a97abd22db96f6d8",
       "version_major": 2,
       "version_minor": 0
      },
      "text/plain": [
       "0it [00:00, ?it/s]"
      ]
     },
     "metadata": {},
     "output_type": "display_data"
    },
    {
     "name": "stdout",
     "output_type": "stream",
     "text": [
      "Epoch 2 | Train Loss: 0.790685134274619 Validation Loss: 0.8901197910308838\n",
      "Training Epoch 3\n",
      "7\n"
     ]
    },
    {
     "data": {
      "application/vnd.jupyter.widget-view+json": {
       "model_id": "e53d89da1f624b4997b8b8e21733ecc6",
       "version_major": 2,
       "version_minor": 0
      },
      "text/plain": [
       "0it [00:00, ?it/s]"
      ]
     },
     "metadata": {},
     "output_type": "display_data"
    },
    {
     "name": "stdout",
     "output_type": "stream",
     "text": [
      "0\n",
      "1\n",
      "2\n",
      "3\n",
      "4\n",
      "5\n",
      "6\n",
      "Validation Epoch 3\n"
     ]
    },
    {
     "data": {
      "application/vnd.jupyter.widget-view+json": {
       "model_id": "dbf534b4689b4bb8af4869b87609a621",
       "version_major": 2,
       "version_minor": 0
      },
      "text/plain": [
       "0it [00:00, ?it/s]"
      ]
     },
     "metadata": {},
     "output_type": "display_data"
    },
    {
     "name": "stdout",
     "output_type": "stream",
     "text": [
      "Epoch 3 | Train Loss: 0.6810774803161621 Validation Loss: 0.7975717186927795\n",
      "Training Epoch 4\n",
      "7\n"
     ]
    },
    {
     "data": {
      "application/vnd.jupyter.widget-view+json": {
       "model_id": "3fe948a9f2b14f4f80aa32253ea45642",
       "version_major": 2,
       "version_minor": 0
      },
      "text/plain": [
       "0it [00:00, ?it/s]"
      ]
     },
     "metadata": {},
     "output_type": "display_data"
    },
    {
     "name": "stdout",
     "output_type": "stream",
     "text": [
      "0\n",
      "1\n",
      "2\n",
      "3\n",
      "4\n",
      "5\n",
      "6\n",
      "Validation Epoch 4\n"
     ]
    },
    {
     "data": {
      "application/vnd.jupyter.widget-view+json": {
       "model_id": "7adeaa6fdbdf44e1881e9555b560f698",
       "version_major": 2,
       "version_minor": 0
      },
      "text/plain": [
       "0it [00:00, ?it/s]"
      ]
     },
     "metadata": {},
     "output_type": "display_data"
    },
    {
     "name": "stdout",
     "output_type": "stream",
     "text": [
      "Epoch 4 | Train Loss: 0.6363945347922189 Validation Loss: 0.705755889415741\n",
      "Training Epoch 5\n",
      "7\n"
     ]
    },
    {
     "data": {
      "application/vnd.jupyter.widget-view+json": {
       "model_id": "7450bb1c239b4e97b84f8a56bd636b51",
       "version_major": 2,
       "version_minor": 0
      },
      "text/plain": [
       "0it [00:00, ?it/s]"
      ]
     },
     "metadata": {},
     "output_type": "display_data"
    },
    {
     "name": "stdout",
     "output_type": "stream",
     "text": [
      "0\n",
      "1\n",
      "2\n",
      "3\n",
      "4\n",
      "5\n",
      "6\n",
      "Validation Epoch 5\n"
     ]
    },
    {
     "data": {
      "application/vnd.jupyter.widget-view+json": {
       "model_id": "3c24c28521e74761be8438dfd0c03024",
       "version_major": 2,
       "version_minor": 0
      },
      "text/plain": [
       "0it [00:00, ?it/s]"
      ]
     },
     "metadata": {},
     "output_type": "display_data"
    },
    {
     "name": "stdout",
     "output_type": "stream",
     "text": [
      "Epoch 5 | Train Loss: 0.6135824918746948 Validation Loss: 0.6366470456123352\n",
      "Training Epoch 6\n",
      "7\n"
     ]
    },
    {
     "data": {
      "application/vnd.jupyter.widget-view+json": {
       "model_id": "b961f98bf9d84f75934cb09654af9c1b",
       "version_major": 2,
       "version_minor": 0
      },
      "text/plain": [
       "0it [00:00, ?it/s]"
      ]
     },
     "metadata": {},
     "output_type": "display_data"
    },
    {
     "name": "stdout",
     "output_type": "stream",
     "text": [
      "0\n",
      "1\n",
      "2\n",
      "3\n",
      "4\n",
      "5\n",
      "6\n",
      "Validation Epoch 6\n"
     ]
    },
    {
     "data": {
      "application/vnd.jupyter.widget-view+json": {
       "model_id": "2e12147926f447789b0f87d414f5dbe5",
       "version_major": 2,
       "version_minor": 0
      },
      "text/plain": [
       "0it [00:00, ?it/s]"
      ]
     },
     "metadata": {},
     "output_type": "display_data"
    },
    {
     "name": "stdout",
     "output_type": "stream",
     "text": [
      "Epoch 6 | Train Loss: 0.5735103743416923 Validation Loss: 0.5951613187789917\n",
      "Training Epoch 7\n",
      "7\n"
     ]
    },
    {
     "data": {
      "application/vnd.jupyter.widget-view+json": {
       "model_id": "8840370ede6c480082ea8e99d4e236c1",
       "version_major": 2,
       "version_minor": 0
      },
      "text/plain": [
       "0it [00:00, ?it/s]"
      ]
     },
     "metadata": {},
     "output_type": "display_data"
    },
    {
     "name": "stdout",
     "output_type": "stream",
     "text": [
      "0\n",
      "1\n",
      "2\n",
      "3\n",
      "4\n",
      "5\n",
      "6\n",
      "Validation Epoch 7\n"
     ]
    },
    {
     "data": {
      "application/vnd.jupyter.widget-view+json": {
       "model_id": "0f8b47924d5b43ac8cd9e0d0a058d950",
       "version_major": 2,
       "version_minor": 0
      },
      "text/plain": [
       "0it [00:00, ?it/s]"
      ]
     },
     "metadata": {},
     "output_type": "display_data"
    },
    {
     "name": "stdout",
     "output_type": "stream",
     "text": [
      "Epoch 7 | Train Loss: 0.5747976132801601 Validation Loss: 0.8374192714691162\n",
      "Training Epoch 8\n",
      "7\n"
     ]
    },
    {
     "data": {
      "application/vnd.jupyter.widget-view+json": {
       "model_id": "3dd92cd23dcf41faa5b00819629f2dfc",
       "version_major": 2,
       "version_minor": 0
      },
      "text/plain": [
       "0it [00:00, ?it/s]"
      ]
     },
     "metadata": {},
     "output_type": "display_data"
    },
    {
     "name": "stdout",
     "output_type": "stream",
     "text": [
      "0\n",
      "1\n",
      "2\n",
      "3\n",
      "4\n",
      "5\n",
      "6\n",
      "Validation Epoch 8\n"
     ]
    },
    {
     "data": {
      "application/vnd.jupyter.widget-view+json": {
       "model_id": "103ef3f2beed4cefae20873803a63fb0",
       "version_major": 2,
       "version_minor": 0
      },
      "text/plain": [
       "0it [00:00, ?it/s]"
      ]
     },
     "metadata": {},
     "output_type": "display_data"
    },
    {
     "name": "stdout",
     "output_type": "stream",
     "text": [
      "Epoch 8 | Train Loss: 0.5642282792500087 Validation Loss: 0.5428347587585449\n",
      "Training Epoch 9\n",
      "7\n"
     ]
    },
    {
     "data": {
      "application/vnd.jupyter.widget-view+json": {
       "model_id": "75dd8ea8ec6a48f7a8dc4e8ed324a8ca",
       "version_major": 2,
       "version_minor": 0
      },
      "text/plain": [
       "0it [00:00, ?it/s]"
      ]
     },
     "metadata": {},
     "output_type": "display_data"
    },
    {
     "name": "stdout",
     "output_type": "stream",
     "text": [
      "0\n",
      "1\n",
      "2\n",
      "3\n",
      "4\n",
      "5\n",
      "6\n",
      "Validation Epoch 9\n"
     ]
    },
    {
     "data": {
      "application/vnd.jupyter.widget-view+json": {
       "model_id": "c1107f5400d64729bff8d4c27cf6aa88",
       "version_major": 2,
       "version_minor": 0
      },
      "text/plain": [
       "0it [00:00, ?it/s]"
      ]
     },
     "metadata": {},
     "output_type": "display_data"
    },
    {
     "name": "stdout",
     "output_type": "stream",
     "text": [
      "Epoch 9 | Train Loss: 0.5427798203059605 Validation Loss: 0.5397014021873474\n",
      "Training Epoch 10\n",
      "7\n"
     ]
    },
    {
     "data": {
      "application/vnd.jupyter.widget-view+json": {
       "model_id": "764819b78a2647be9049abf1c2bd625e",
       "version_major": 2,
       "version_minor": 0
      },
      "text/plain": [
       "0it [00:00, ?it/s]"
      ]
     },
     "metadata": {},
     "output_type": "display_data"
    },
    {
     "name": "stdout",
     "output_type": "stream",
     "text": [
      "0\n",
      "1\n",
      "2\n",
      "3\n",
      "4\n",
      "5\n",
      "6\n",
      "Validation Epoch 10\n"
     ]
    },
    {
     "data": {
      "application/vnd.jupyter.widget-view+json": {
       "model_id": "e4f0543d35c642c0ba6aa2497cf0f3a1",
       "version_major": 2,
       "version_minor": 0
      },
      "text/plain": [
       "0it [00:00, ?it/s]"
      ]
     },
     "metadata": {},
     "output_type": "display_data"
    },
    {
     "name": "stdout",
     "output_type": "stream",
     "text": [
      "Epoch 10 | Train Loss: 0.5370939203671047 Validation Loss: 0.5942836999893188\n",
      "Training Epoch 11\n",
      "7\n"
     ]
    },
    {
     "data": {
      "application/vnd.jupyter.widget-view+json": {
       "model_id": "ed9a64932ba94c07a8522957d232cd39",
       "version_major": 2,
       "version_minor": 0
      },
      "text/plain": [
       "0it [00:00, ?it/s]"
      ]
     },
     "metadata": {},
     "output_type": "display_data"
    },
    {
     "name": "stdout",
     "output_type": "stream",
     "text": [
      "0\n",
      "1\n",
      "2\n",
      "3\n",
      "4\n",
      "5\n",
      "6\n",
      "Validation Epoch 11\n"
     ]
    },
    {
     "data": {
      "application/vnd.jupyter.widget-view+json": {
       "model_id": "a2bc0de43cb24a60b2adcdace878873a",
       "version_major": 2,
       "version_minor": 0
      },
      "text/plain": [
       "0it [00:00, ?it/s]"
      ]
     },
     "metadata": {},
     "output_type": "display_data"
    },
    {
     "name": "stdout",
     "output_type": "stream",
     "text": [
      "Epoch 11 | Train Loss: 0.5342784779412406 Validation Loss: 0.5460073947906494\n",
      "Training Epoch 12\n",
      "7\n"
     ]
    },
    {
     "data": {
      "application/vnd.jupyter.widget-view+json": {
       "model_id": "48c995dd070d4abe927c49fe4c8019a7",
       "version_major": 2,
       "version_minor": 0
      },
      "text/plain": [
       "0it [00:00, ?it/s]"
      ]
     },
     "metadata": {},
     "output_type": "display_data"
    },
    {
     "name": "stdout",
     "output_type": "stream",
     "text": [
      "0\n",
      "1\n",
      "2\n",
      "3\n",
      "4\n",
      "5\n",
      "6\n",
      "Validation Epoch 12\n"
     ]
    },
    {
     "data": {
      "application/vnd.jupyter.widget-view+json": {
       "model_id": "bfcae007ad1649968f5ffd46bd7271bb",
       "version_major": 2,
       "version_minor": 0
      },
      "text/plain": [
       "0it [00:00, ?it/s]"
      ]
     },
     "metadata": {},
     "output_type": "display_data"
    },
    {
     "name": "stdout",
     "output_type": "stream",
     "text": [
      "Epoch 12 | Train Loss: 0.5325356210981097 Validation Loss: 0.5426895618438721\n",
      "Training Epoch 13\n",
      "7\n"
     ]
    },
    {
     "data": {
      "application/vnd.jupyter.widget-view+json": {
       "model_id": "09630848595243b485ba10ec2d6ab0e0",
       "version_major": 2,
       "version_minor": 0
      },
      "text/plain": [
       "0it [00:00, ?it/s]"
      ]
     },
     "metadata": {},
     "output_type": "display_data"
    },
    {
     "name": "stdout",
     "output_type": "stream",
     "text": [
      "0\n",
      "1\n",
      "2\n",
      "3\n",
      "4\n",
      "5\n",
      "6\n",
      "Validation Epoch 13\n"
     ]
    },
    {
     "data": {
      "application/vnd.jupyter.widget-view+json": {
       "model_id": "6d3dfe0c6632421195ea9fb8431aea75",
       "version_major": 2,
       "version_minor": 0
      },
      "text/plain": [
       "0it [00:00, ?it/s]"
      ]
     },
     "metadata": {},
     "output_type": "display_data"
    },
    {
     "name": "stdout",
     "output_type": "stream",
     "text": [
      "Epoch 13 | Train Loss: 0.5293259450367519 Validation Loss: 0.5291503071784973\n",
      "Training Epoch 14\n",
      "7\n"
     ]
    },
    {
     "data": {
      "application/vnd.jupyter.widget-view+json": {
       "model_id": "2d0e01ca87c743bdaac805a33affd53a",
       "version_major": 2,
       "version_minor": 0
      },
      "text/plain": [
       "0it [00:00, ?it/s]"
      ]
     },
     "metadata": {},
     "output_type": "display_data"
    },
    {
     "name": "stdout",
     "output_type": "stream",
     "text": [
      "0\n",
      "1\n",
      "2\n",
      "3\n",
      "4\n",
      "5\n",
      "6\n",
      "Validation Epoch 14\n"
     ]
    },
    {
     "data": {
      "application/vnd.jupyter.widget-view+json": {
       "model_id": "be8abd8af7fa4dea8db79dd16c07e70c",
       "version_major": 2,
       "version_minor": 0
      },
      "text/plain": [
       "0it [00:00, ?it/s]"
      ]
     },
     "metadata": {},
     "output_type": "display_data"
    },
    {
     "name": "stdout",
     "output_type": "stream",
     "text": [
      "Epoch 14 | Train Loss: 0.578303439276559 Validation Loss: 0.5402179956436157\n",
      "Training Epoch 15\n",
      "7\n"
     ]
    },
    {
     "data": {
      "application/vnd.jupyter.widget-view+json": {
       "model_id": "a4b5b07efbb74234a82c67cb4872db08",
       "version_major": 2,
       "version_minor": 0
      },
      "text/plain": [
       "0it [00:00, ?it/s]"
      ]
     },
     "metadata": {},
     "output_type": "display_data"
    },
    {
     "name": "stdout",
     "output_type": "stream",
     "text": [
      "0\n",
      "1\n",
      "2\n",
      "3\n",
      "4\n",
      "5\n",
      "6\n",
      "Validation Epoch 15\n"
     ]
    },
    {
     "data": {
      "application/vnd.jupyter.widget-view+json": {
       "model_id": "7825771e6e984e90ac634b1259d1841a",
       "version_major": 2,
       "version_minor": 0
      },
      "text/plain": [
       "0it [00:00, ?it/s]"
      ]
     },
     "metadata": {},
     "output_type": "display_data"
    },
    {
     "name": "stdout",
     "output_type": "stream",
     "text": [
      "Epoch 15 | Train Loss: 0.5330976503235954 Validation Loss: 0.5326470732688904\n",
      "Training Epoch 16\n",
      "7\n"
     ]
    },
    {
     "data": {
      "application/vnd.jupyter.widget-view+json": {
       "model_id": "a3d9ec14ec944686b2988a49a96bfc51",
       "version_major": 2,
       "version_minor": 0
      },
      "text/plain": [
       "0it [00:00, ?it/s]"
      ]
     },
     "metadata": {},
     "output_type": "display_data"
    },
    {
     "name": "stdout",
     "output_type": "stream",
     "text": [
      "0\n",
      "1\n",
      "2\n",
      "3\n",
      "4\n",
      "5\n",
      "6\n",
      "Validation Epoch 16\n"
     ]
    },
    {
     "data": {
      "application/vnd.jupyter.widget-view+json": {
       "model_id": "0de30b1d22e0446d974892719343e079",
       "version_major": 2,
       "version_minor": 0
      },
      "text/plain": [
       "0it [00:00, ?it/s]"
      ]
     },
     "metadata": {},
     "output_type": "display_data"
    },
    {
     "name": "stdout",
     "output_type": "stream",
     "text": [
      "Epoch 16 | Train Loss: 0.5390392712184361 Validation Loss: 0.5427546501159668\n",
      "Training Epoch 17\n",
      "7\n"
     ]
    },
    {
     "data": {
      "application/vnd.jupyter.widget-view+json": {
       "model_id": "4eeb4f172c3f4cdc8186565b7c07a2bd",
       "version_major": 2,
       "version_minor": 0
      },
      "text/plain": [
       "0it [00:00, ?it/s]"
      ]
     },
     "metadata": {},
     "output_type": "display_data"
    },
    {
     "name": "stdout",
     "output_type": "stream",
     "text": [
      "0\n",
      "1\n",
      "2\n",
      "3\n",
      "4\n",
      "5\n",
      "6\n",
      "Validation Epoch 17\n"
     ]
    },
    {
     "data": {
      "application/vnd.jupyter.widget-view+json": {
       "model_id": "483b55aa036a45f29da59a8ad6236828",
       "version_major": 2,
       "version_minor": 0
      },
      "text/plain": [
       "0it [00:00, ?it/s]"
      ]
     },
     "metadata": {},
     "output_type": "display_data"
    },
    {
     "name": "stdout",
     "output_type": "stream",
     "text": [
      "Epoch 17 | Train Loss: 0.5364804353032794 Validation Loss: 0.5992576479911804\n",
      "Training Epoch 18\n",
      "7\n"
     ]
    },
    {
     "data": {
      "application/vnd.jupyter.widget-view+json": {
       "model_id": "d5a9f06cf13847208f00510c23fbc123",
       "version_major": 2,
       "version_minor": 0
      },
      "text/plain": [
       "0it [00:00, ?it/s]"
      ]
     },
     "metadata": {},
     "output_type": "display_data"
    },
    {
     "name": "stdout",
     "output_type": "stream",
     "text": [
      "0\n",
      "1\n",
      "2\n",
      "3\n",
      "4\n",
      "5\n",
      "6\n",
      "Validation Epoch 18\n"
     ]
    },
    {
     "data": {
      "application/vnd.jupyter.widget-view+json": {
       "model_id": "521842a72b514d2fa50ff0e4c0433109",
       "version_major": 2,
       "version_minor": 0
      },
      "text/plain": [
       "0it [00:00, ?it/s]"
      ]
     },
     "metadata": {},
     "output_type": "display_data"
    },
    {
     "name": "stdout",
     "output_type": "stream",
     "text": [
      "Epoch 18 | Train Loss: 0.5282705681664603 Validation Loss: 0.5418761968612671\n",
      "Training Epoch 19\n",
      "7\n"
     ]
    },
    {
     "data": {
      "application/vnd.jupyter.widget-view+json": {
       "model_id": "e3b12ef75ee440519f6d42fe8954f56a",
       "version_major": 2,
       "version_minor": 0
      },
      "text/plain": [
       "0it [00:00, ?it/s]"
      ]
     },
     "metadata": {},
     "output_type": "display_data"
    },
    {
     "name": "stdout",
     "output_type": "stream",
     "text": [
      "0\n",
      "1\n",
      "2\n",
      "3\n",
      "4\n",
      "5\n",
      "6\n",
      "Validation Epoch 19\n"
     ]
    },
    {
     "data": {
      "application/vnd.jupyter.widget-view+json": {
       "model_id": "c5dd6257eaeb4fa18c7e549c6c3b34a4",
       "version_major": 2,
       "version_minor": 0
      },
      "text/plain": [
       "0it [00:00, ?it/s]"
      ]
     },
     "metadata": {},
     "output_type": "display_data"
    },
    {
     "name": "stdout",
     "output_type": "stream",
     "text": [
      "Epoch 19 | Train Loss: 0.5399659276008606 Validation Loss: 0.5252231955528259\n",
      "Training Epoch 20\n",
      "7\n"
     ]
    },
    {
     "data": {
      "application/vnd.jupyter.widget-view+json": {
       "model_id": "c70bb7c65b7243948f8d0130b15cf437",
       "version_major": 2,
       "version_minor": 0
      },
      "text/plain": [
       "0it [00:00, ?it/s]"
      ]
     },
     "metadata": {},
     "output_type": "display_data"
    },
    {
     "name": "stdout",
     "output_type": "stream",
     "text": [
      "0\n",
      "1\n",
      "2\n",
      "3\n",
      "4\n",
      "5\n",
      "6\n",
      "Validation Epoch 20\n"
     ]
    },
    {
     "data": {
      "application/vnd.jupyter.widget-view+json": {
       "model_id": "68b3ca0873a247e29ab7b3892341f59b",
       "version_major": 2,
       "version_minor": 0
      },
      "text/plain": [
       "0it [00:00, ?it/s]"
      ]
     },
     "metadata": {},
     "output_type": "display_data"
    },
    {
     "name": "stdout",
     "output_type": "stream",
     "text": [
      "Epoch 20 | Train Loss: 0.5302597624914986 Validation Loss: 0.5435231328010559\n",
      "Training Epoch 21\n",
      "7\n"
     ]
    },
    {
     "data": {
      "application/vnd.jupyter.widget-view+json": {
       "model_id": "1e9109f1e17c4470bebae8e76c266377",
       "version_major": 2,
       "version_minor": 0
      },
      "text/plain": [
       "0it [00:00, ?it/s]"
      ]
     },
     "metadata": {},
     "output_type": "display_data"
    },
    {
     "name": "stdout",
     "output_type": "stream",
     "text": [
      "0\n",
      "1\n",
      "2\n",
      "3\n",
      "4\n",
      "5\n",
      "6\n",
      "Validation Epoch 21\n"
     ]
    },
    {
     "data": {
      "application/vnd.jupyter.widget-view+json": {
       "model_id": "22002ddb405f4d1b820c7c6cd80eee21",
       "version_major": 2,
       "version_minor": 0
      },
      "text/plain": [
       "0it [00:00, ?it/s]"
      ]
     },
     "metadata": {},
     "output_type": "display_data"
    },
    {
     "name": "stdout",
     "output_type": "stream",
     "text": [
      "Epoch 21 | Train Loss: 0.5250600320952279 Validation Loss: 0.5304575562477112\n",
      "Training Epoch 22\n",
      "7\n"
     ]
    },
    {
     "data": {
      "application/vnd.jupyter.widget-view+json": {
       "model_id": "d0f5031299094420bfc907a13037977d",
       "version_major": 2,
       "version_minor": 0
      },
      "text/plain": [
       "0it [00:00, ?it/s]"
      ]
     },
     "metadata": {},
     "output_type": "display_data"
    },
    {
     "name": "stdout",
     "output_type": "stream",
     "text": [
      "0\n",
      "1\n",
      "2\n",
      "3\n",
      "4\n",
      "5\n",
      "6\n",
      "Validation Epoch 22\n"
     ]
    },
    {
     "data": {
      "application/vnd.jupyter.widget-view+json": {
       "model_id": "f207c9cf66794b09b5690fd40336616d",
       "version_major": 2,
       "version_minor": 0
      },
      "text/plain": [
       "0it [00:00, ?it/s]"
      ]
     },
     "metadata": {},
     "output_type": "display_data"
    },
    {
     "name": "stdout",
     "output_type": "stream",
     "text": [
      "Epoch 22 | Train Loss: 0.5233299221311297 Validation Loss: 0.5246754884719849\n",
      "Training Epoch 23\n",
      "7\n"
     ]
    },
    {
     "data": {
      "application/vnd.jupyter.widget-view+json": {
       "model_id": "54f9b970bc6a4ed6b536130492ca4b90",
       "version_major": 2,
       "version_minor": 0
      },
      "text/plain": [
       "0it [00:00, ?it/s]"
      ]
     },
     "metadata": {},
     "output_type": "display_data"
    },
    {
     "name": "stdout",
     "output_type": "stream",
     "text": [
      "0\n",
      "1\n",
      "2\n",
      "3\n",
      "4\n",
      "5\n",
      "6\n",
      "Validation Epoch 23\n"
     ]
    },
    {
     "data": {
      "application/vnd.jupyter.widget-view+json": {
       "model_id": "4dcfc90095b5425f99fe1fe8f384d560",
       "version_major": 2,
       "version_minor": 0
      },
      "text/plain": [
       "0it [00:00, ?it/s]"
      ]
     },
     "metadata": {},
     "output_type": "display_data"
    },
    {
     "name": "stdout",
     "output_type": "stream",
     "text": [
      "Epoch 23 | Train Loss: 0.5713819180216108 Validation Loss: 0.5407687425613403\n",
      "Training Epoch 24\n",
      "7\n"
     ]
    },
    {
     "data": {
      "application/vnd.jupyter.widget-view+json": {
       "model_id": "17cd929e46164b428c424fbd4b69ddab",
       "version_major": 2,
       "version_minor": 0
      },
      "text/plain": [
       "0it [00:00, ?it/s]"
      ]
     },
     "metadata": {},
     "output_type": "display_data"
    },
    {
     "name": "stdout",
     "output_type": "stream",
     "text": [
      "0\n",
      "1\n",
      "2\n",
      "3\n",
      "4\n",
      "5\n",
      "6\n",
      "Validation Epoch 24\n"
     ]
    },
    {
     "data": {
      "application/vnd.jupyter.widget-view+json": {
       "model_id": "e346fa7254bc478397344c1753e226e9",
       "version_major": 2,
       "version_minor": 0
      },
      "text/plain": [
       "0it [00:00, ?it/s]"
      ]
     },
     "metadata": {},
     "output_type": "display_data"
    },
    {
     "name": "stdout",
     "output_type": "stream",
     "text": [
      "Epoch 24 | Train Loss: 0.5318551148687091 Validation Loss: 0.5451647043228149\n",
      "Training Epoch 25\n",
      "7\n"
     ]
    },
    {
     "data": {
      "application/vnd.jupyter.widget-view+json": {
       "model_id": "19b701a2fe9e4bf4bf50ad0f84c835ee",
       "version_major": 2,
       "version_minor": 0
      },
      "text/plain": [
       "0it [00:00, ?it/s]"
      ]
     },
     "metadata": {},
     "output_type": "display_data"
    },
    {
     "name": "stdout",
     "output_type": "stream",
     "text": [
      "0\n",
      "1\n",
      "2\n",
      "3\n",
      "4\n",
      "5\n",
      "6\n",
      "Validation Epoch 25\n"
     ]
    },
    {
     "data": {
      "application/vnd.jupyter.widget-view+json": {
       "model_id": "0184c2a0e21e4f9aa4ede04ee4a6967a",
       "version_major": 2,
       "version_minor": 0
      },
      "text/plain": [
       "0it [00:00, ?it/s]"
      ]
     },
     "metadata": {},
     "output_type": "display_data"
    },
    {
     "name": "stdout",
     "output_type": "stream",
     "text": [
      "Epoch 25 | Train Loss: 0.5516894204275948 Validation Loss: 0.5375844836235046\n",
      "Training Epoch 26\n",
      "7\n"
     ]
    },
    {
     "data": {
      "application/vnd.jupyter.widget-view+json": {
       "model_id": "04167d1ad6ac48aa850779fa3bd92e81",
       "version_major": 2,
       "version_minor": 0
      },
      "text/plain": [
       "0it [00:00, ?it/s]"
      ]
     },
     "metadata": {},
     "output_type": "display_data"
    },
    {
     "name": "stdout",
     "output_type": "stream",
     "text": [
      "0\n",
      "1\n",
      "2\n",
      "3\n",
      "4\n",
      "5\n",
      "6\n",
      "Validation Epoch 26\n"
     ]
    },
    {
     "data": {
      "application/vnd.jupyter.widget-view+json": {
       "model_id": "7d58f260178349f3a3d96d8827aa27c9",
       "version_major": 2,
       "version_minor": 0
      },
      "text/plain": [
       "0it [00:00, ?it/s]"
      ]
     },
     "metadata": {},
     "output_type": "display_data"
    },
    {
     "name": "stdout",
     "output_type": "stream",
     "text": [
      "Epoch 26 | Train Loss: 0.5661568301064628 Validation Loss: 0.5284305810928345\n",
      "Training Epoch 27\n",
      "7\n"
     ]
    },
    {
     "data": {
      "application/vnd.jupyter.widget-view+json": {
       "model_id": "286f53241a994061ba717db676d44ab8",
       "version_major": 2,
       "version_minor": 0
      },
      "text/plain": [
       "0it [00:00, ?it/s]"
      ]
     },
     "metadata": {},
     "output_type": "display_data"
    },
    {
     "name": "stdout",
     "output_type": "stream",
     "text": [
      "0\n",
      "1\n",
      "2\n",
      "3\n",
      "4\n",
      "5\n",
      "6\n",
      "Validation Epoch 27\n"
     ]
    },
    {
     "data": {
      "application/vnd.jupyter.widget-view+json": {
       "model_id": "314963e8311c42c0b69908fe8750f029",
       "version_major": 2,
       "version_minor": 0
      },
      "text/plain": [
       "0it [00:00, ?it/s]"
      ]
     },
     "metadata": {},
     "output_type": "display_data"
    },
    {
     "name": "stdout",
     "output_type": "stream",
     "text": [
      "Epoch 27 | Train Loss: 0.572435200214386 Validation Loss: 0.5477023720741272\n",
      "Training Epoch 28\n",
      "7\n"
     ]
    },
    {
     "data": {
      "application/vnd.jupyter.widget-view+json": {
       "model_id": "2827021157ab4fdf8941abce0c696e88",
       "version_major": 2,
       "version_minor": 0
      },
      "text/plain": [
       "0it [00:00, ?it/s]"
      ]
     },
     "metadata": {},
     "output_type": "display_data"
    },
    {
     "name": "stdout",
     "output_type": "stream",
     "text": [
      "0\n",
      "1\n",
      "2\n",
      "3\n",
      "4\n",
      "5\n",
      "6\n",
      "Validation Epoch 28\n"
     ]
    },
    {
     "data": {
      "application/vnd.jupyter.widget-view+json": {
       "model_id": "5cafab0d3c8e4a65a77937aa6d2bebb4",
       "version_major": 2,
       "version_minor": 0
      },
      "text/plain": [
       "0it [00:00, ?it/s]"
      ]
     },
     "metadata": {},
     "output_type": "display_data"
    },
    {
     "name": "stdout",
     "output_type": "stream",
     "text": [
      "Epoch 28 | Train Loss: 0.529661238193512 Validation Loss: 0.5422180891036987\n",
      "Training Epoch 29\n",
      "7\n"
     ]
    },
    {
     "data": {
      "application/vnd.jupyter.widget-view+json": {
       "model_id": "b6832ba1774f4ed985438cc4d4f03e1d",
       "version_major": 2,
       "version_minor": 0
      },
      "text/plain": [
       "0it [00:00, ?it/s]"
      ]
     },
     "metadata": {},
     "output_type": "display_data"
    },
    {
     "name": "stdout",
     "output_type": "stream",
     "text": [
      "0\n",
      "1\n",
      "2\n",
      "3\n",
      "4\n",
      "5\n",
      "6\n",
      "Validation Epoch 29\n"
     ]
    },
    {
     "data": {
      "application/vnd.jupyter.widget-view+json": {
       "model_id": "0f7e290621294d1b98169de9d15e3af0",
       "version_major": 2,
       "version_minor": 0
      },
      "text/plain": [
       "0it [00:00, ?it/s]"
      ]
     },
     "metadata": {},
     "output_type": "display_data"
    },
    {
     "name": "stdout",
     "output_type": "stream",
     "text": [
      "Epoch 29 | Train Loss: 0.5260694537843976 Validation Loss: 0.5354257225990295\n",
      "Training Epoch 30\n",
      "7\n"
     ]
    },
    {
     "data": {
      "application/vnd.jupyter.widget-view+json": {
       "model_id": "861fad45c8bf42598c1c3aba89fe5894",
       "version_major": 2,
       "version_minor": 0
      },
      "text/plain": [
       "0it [00:00, ?it/s]"
      ]
     },
     "metadata": {},
     "output_type": "display_data"
    },
    {
     "name": "stdout",
     "output_type": "stream",
     "text": [
      "0\n",
      "1\n",
      "2\n",
      "3\n",
      "4\n",
      "5\n",
      "6\n",
      "Validation Epoch 30\n"
     ]
    },
    {
     "data": {
      "application/vnd.jupyter.widget-view+json": {
       "model_id": "52b7fc65360248eaac9d6e7895383b02",
       "version_major": 2,
       "version_minor": 0
      },
      "text/plain": [
       "0it [00:00, ?it/s]"
      ]
     },
     "metadata": {},
     "output_type": "display_data"
    },
    {
     "name": "stdout",
     "output_type": "stream",
     "text": [
      "Epoch 30 | Train Loss: 0.5582549401691982 Validation Loss: 0.5350945591926575\n",
      "Training Epoch 31\n",
      "7\n"
     ]
    },
    {
     "data": {
      "application/vnd.jupyter.widget-view+json": {
       "model_id": "444eca3af712424599abbf86525d7fee",
       "version_major": 2,
       "version_minor": 0
      },
      "text/plain": [
       "0it [00:00, ?it/s]"
      ]
     },
     "metadata": {},
     "output_type": "display_data"
    },
    {
     "name": "stdout",
     "output_type": "stream",
     "text": [
      "0\n",
      "1\n",
      "2\n",
      "3\n",
      "4\n",
      "5\n",
      "6\n",
      "Validation Epoch 31\n"
     ]
    },
    {
     "data": {
      "application/vnd.jupyter.widget-view+json": {
       "model_id": "b6c48bb66e9b49ca9616392fde4aaedc",
       "version_major": 2,
       "version_minor": 0
      },
      "text/plain": [
       "0it [00:00, ?it/s]"
      ]
     },
     "metadata": {},
     "output_type": "display_data"
    },
    {
     "name": "stdout",
     "output_type": "stream",
     "text": [
      "Epoch 31 | Train Loss: 0.5331936393465314 Validation Loss: 0.5815355777740479\n",
      "Training Epoch 32\n",
      "7\n"
     ]
    },
    {
     "data": {
      "application/vnd.jupyter.widget-view+json": {
       "model_id": "2e1b22d07b7e477088b08b0184d105eb",
       "version_major": 2,
       "version_minor": 0
      },
      "text/plain": [
       "0it [00:00, ?it/s]"
      ]
     },
     "metadata": {},
     "output_type": "display_data"
    },
    {
     "name": "stdout",
     "output_type": "stream",
     "text": [
      "0\n",
      "1\n",
      "2\n",
      "3\n",
      "4\n",
      "5\n",
      "6\n",
      "Validation Epoch 32\n"
     ]
    },
    {
     "data": {
      "application/vnd.jupyter.widget-view+json": {
       "model_id": "40200772a3dd4f16bedd99839254d1df",
       "version_major": 2,
       "version_minor": 0
      },
      "text/plain": [
       "0it [00:00, ?it/s]"
      ]
     },
     "metadata": {},
     "output_type": "display_data"
    },
    {
     "name": "stdout",
     "output_type": "stream",
     "text": [
      "Epoch 32 | Train Loss: 0.541022607258388 Validation Loss: 0.5330294370651245\n",
      "Training Epoch 33\n",
      "7\n"
     ]
    },
    {
     "data": {
      "application/vnd.jupyter.widget-view+json": {
       "model_id": "2973532d0b0f4d0eae7b18156d923f26",
       "version_major": 2,
       "version_minor": 0
      },
      "text/plain": [
       "0it [00:00, ?it/s]"
      ]
     },
     "metadata": {},
     "output_type": "display_data"
    },
    {
     "name": "stdout",
     "output_type": "stream",
     "text": [
      "0\n",
      "1\n",
      "2\n",
      "3\n",
      "4\n",
      "5\n",
      "6\n",
      "Validation Epoch 33\n"
     ]
    },
    {
     "data": {
      "application/vnd.jupyter.widget-view+json": {
       "model_id": "2d824fc1bc8f4d328d6a92671731d3ce",
       "version_major": 2,
       "version_minor": 0
      },
      "text/plain": [
       "0it [00:00, ?it/s]"
      ]
     },
     "metadata": {},
     "output_type": "display_data"
    },
    {
     "name": "stdout",
     "output_type": "stream",
     "text": [
      "Epoch 33 | Train Loss: 0.524385963167463 Validation Loss: 0.5841611623764038\n",
      "Training Epoch 34\n",
      "7\n"
     ]
    },
    {
     "data": {
      "application/vnd.jupyter.widget-view+json": {
       "model_id": "d142b3cea04e4de28f64bbdedad79be5",
       "version_major": 2,
       "version_minor": 0
      },
      "text/plain": [
       "0it [00:00, ?it/s]"
      ]
     },
     "metadata": {},
     "output_type": "display_data"
    },
    {
     "name": "stdout",
     "output_type": "stream",
     "text": [
      "0\n",
      "1\n",
      "2\n",
      "3\n",
      "4\n",
      "5\n",
      "6\n",
      "Validation Epoch 34\n"
     ]
    },
    {
     "data": {
      "application/vnd.jupyter.widget-view+json": {
       "model_id": "ea6cbf29cb7c43b8baeaf8db996a9665",
       "version_major": 2,
       "version_minor": 0
      },
      "text/plain": [
       "0it [00:00, ?it/s]"
      ]
     },
     "metadata": {},
     "output_type": "display_data"
    },
    {
     "name": "stdout",
     "output_type": "stream",
     "text": [
      "Epoch 34 | Train Loss: 0.5233293005398342 Validation Loss: 0.9852771759033203\n",
      "Training Epoch 35\n",
      "7\n"
     ]
    },
    {
     "data": {
      "application/vnd.jupyter.widget-view+json": {
       "model_id": "0e93432183b64184a9f47598ed54bbc9",
       "version_major": 2,
       "version_minor": 0
      },
      "text/plain": [
       "0it [00:00, ?it/s]"
      ]
     },
     "metadata": {},
     "output_type": "display_data"
    },
    {
     "name": "stdout",
     "output_type": "stream",
     "text": [
      "0\n",
      "1\n",
      "2\n",
      "3\n",
      "4\n",
      "5\n",
      "6\n",
      "Validation Epoch 35\n"
     ]
    },
    {
     "data": {
      "application/vnd.jupyter.widget-view+json": {
       "model_id": "4771859b64824cfe8368950167e58c65",
       "version_major": 2,
       "version_minor": 0
      },
      "text/plain": [
       "0it [00:00, ?it/s]"
      ]
     },
     "metadata": {},
     "output_type": "display_data"
    },
    {
     "name": "stdout",
     "output_type": "stream",
     "text": [
      "Epoch 35 | Train Loss: 0.5756667000906808 Validation Loss: 0.5579149127006531\n",
      "Training Epoch 36\n",
      "7\n"
     ]
    },
    {
     "data": {
      "application/vnd.jupyter.widget-view+json": {
       "model_id": "d40340a0ab8f4ad1aab0c877210cc5c1",
       "version_major": 2,
       "version_minor": 0
      },
      "text/plain": [
       "0it [00:00, ?it/s]"
      ]
     },
     "metadata": {},
     "output_type": "display_data"
    },
    {
     "name": "stdout",
     "output_type": "stream",
     "text": [
      "0\n",
      "1\n",
      "2\n",
      "3\n",
      "4\n",
      "5\n"
     ]
    }
   ],
   "source": [
    "# Check that MPS is available\n",
    "if not torch.backends.mps.is_available():\n",
    "    if not torch.backends.mps.is_built():\n",
    "        print(\"MPS not available because the current PyTorch install was not \"\n",
    "              \"built with MPS enabled.\")\n",
    "    else:\n",
    "        print(\"MPS not available because the current MacOS version is not 12.3+ \"\n",
    "              \"and/or you do not have an MPS-enabled device on this machine.\")\n",
    "    \n",
    "    device = torch.device('cpu')\n",
    "else:\n",
    "    device = torch.device(\"mps\")\n",
    "\n",
    "model = DiffusionModel(device)\n",
    "model.to(device)\n",
    "\n",
    "optim = torch.optim.Adam(model.parameters(), lr = 1e-4)\n",
    "\n",
    "train_losses = []\n",
    "val_losees = []\n",
    "for epoch in range(50):\n",
    "    print(f\"Training Epoch {epoch}\")\n",
    "    losses = []\n",
    "    model.train()\n",
    "    print(len(train_loader))\n",
    "    for i, input in tqdm(enumerate(train_loader)):\n",
    "        optim.zero_grad()\n",
    "\n",
    "        input = input.to(device)\n",
    "\n",
    "        noise = torch.randn_like(input)\n",
    "        noise = noise.to(device)\n",
    "        noise_steps = torch.randint(0, model.MAX_TIMESTEPS, (1,))\n",
    "        noised_input = model.apply_noise(input, noise, noise_steps)\n",
    "\n",
    "        pred_noise = model(noised_input.permute(0, 3, 1, 2))\n",
    "        loss = torch.nn.functional.mse_loss(pred_noise, noise.permute(0, 3, 1, 2))\n",
    "        losses.append(loss.item())\n",
    "\n",
    "        loss.backward()\n",
    "        optim.step()\n",
    "\n",
    "    train_losses.append(np.mean(losses))\n",
    "\n",
    "    with torch.no_grad():\n",
    "        print(f\"Validation Epoch {epoch}\")\n",
    "        losses = []\n",
    "        model.eval()\n",
    "        for i, input in tqdm(enumerate(val_loader)):\n",
    "            input = input.to(device)\n",
    "\n",
    "            noise = torch.randn_like(input)\n",
    "            noise = noise.to(device)\n",
    "            noise_steps = torch.randint(0, model.MAX_TIMESTEPS, (1,))\n",
    "            noised_input = model.apply_noise(input, noise, noise_steps)\n",
    "\n",
    "            pred_noise = model(noised_input.permute(0, 3, 1, 2))\n",
    "            loss = torch.nn.functional.mse_loss(pred_noise, noise.permute(0, 3, 1, 2))\n",
    "            losses.append(loss.item())\n",
    "\n",
    "        val_losees.append(np.mean(losses))\n",
    "    \n",
    "    print(f\"Epoch {epoch} | Train Loss: {train_losses[-1]} Validation Loss: {val_losees[-1]}\")\n",
    "        \n",
    "\n",
    "\n",
    "\n",
    "\n",
    "    # pred = model(noised_input.permute(0, 3, 1, 2))\n",
    "    # pred = pred.permute(0, 2,3, 1)\n",
    "\n",
    "    # original = input[0] / 2 + 0.5\n",
    "    # noised = noised_input[0] / 2  + 0.5\n",
    "    # pred_noise = pred[0] / 2 + 0.5\n",
    "\n",
    "    # original, noised, pred_noise = original.detach().cpu(), noised.detach().cpu(), pred_noise.detach().cpu()\n",
    "    # plt.imshow(torch.cat([original, noised, pred_noise], dim=1))\n",
    "    # break\n",
    "\n"
   ]
  },
  {
   "cell_type": "code",
   "execution_count": null,
   "metadata": {},
   "outputs": [],
   "source": []
  }
 ],
 "metadata": {
  "kernelspec": {
   "display_name": "back2basics-ml",
   "language": "python",
   "name": "python3"
  },
  "language_info": {
   "codemirror_mode": {
    "name": "ipython",
    "version": 3
   },
   "file_extension": ".py",
   "mimetype": "text/x-python",
   "name": "python",
   "nbconvert_exporter": "python",
   "pygments_lexer": "ipython3",
   "version": "3.10.14"
  }
 },
 "nbformat": 4,
 "nbformat_minor": 2
}
